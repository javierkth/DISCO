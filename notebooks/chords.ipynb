{
 "cells": [
  {
   "cell_type": "code",
   "execution_count": 2,
   "metadata": {},
   "outputs": [
    {
     "ename": "ValueError",
     "evalue": "message time must be non-negative in MIDI file",
     "output_type": "error",
     "traceback": [
      "\u001b[0;31m---------------------------------------------------------------------------\u001b[0m",
      "\u001b[0;31mValueError\u001b[0m                                Traceback (most recent call last)",
      "Cell \u001b[0;32mIn[2], line 55\u001b[0m\n\u001b[1;32m     52\u001b[0m     mid\u001b[38;5;241m.\u001b[39msave(temp_file\u001b[38;5;241m.\u001b[39mname)\n\u001b[1;32m     53\u001b[0m     \u001b[38;5;28;01mreturn\u001b[39;00m temp_file\u001b[38;5;241m.\u001b[39mname\n\u001b[0;32m---> 55\u001b[0m midi_file_path \u001b[38;5;241m=\u001b[39m \u001b[43mcreate_midi_example\u001b[49m\u001b[43m(\u001b[49m\u001b[43m)\u001b[49m\n\u001b[1;32m     56\u001b[0m midi_file_path\n",
      "Cell \u001b[0;32mIn[2], line 52\u001b[0m, in \u001b[0;36mcreate_midi_example\u001b[0;34m()\u001b[0m\n\u001b[1;32m     50\u001b[0m \u001b[38;5;66;03m# Save the MIDI file\u001b[39;00m\n\u001b[1;32m     51\u001b[0m temp_file \u001b[38;5;241m=\u001b[39m NamedTemporaryFile(delete\u001b[38;5;241m=\u001b[39m\u001b[38;5;28;01mFalse\u001b[39;00m, suffix\u001b[38;5;241m=\u001b[39m\u001b[38;5;124m'\u001b[39m\u001b[38;5;124m.mid\u001b[39m\u001b[38;5;124m'\u001b[39m)\n\u001b[0;32m---> 52\u001b[0m \u001b[43mmid\u001b[49m\u001b[38;5;241;43m.\u001b[39;49m\u001b[43msave\u001b[49m\u001b[43m(\u001b[49m\u001b[43mtemp_file\u001b[49m\u001b[38;5;241;43m.\u001b[39;49m\u001b[43mname\u001b[49m\u001b[43m)\u001b[49m\n\u001b[1;32m     53\u001b[0m \u001b[38;5;28;01mreturn\u001b[39;00m temp_file\u001b[38;5;241m.\u001b[39mname\n",
      "File \u001b[0;32m~/code/DISCO/.venv/lib/python3.11/site-packages/mido/midifiles/midifiles.py:458\u001b[0m, in \u001b[0;36mMidiFile.save\u001b[0;34m(self, filename, file)\u001b[0m\n\u001b[1;32m    456\u001b[0m \u001b[38;5;28;01melif\u001b[39;00m filename \u001b[38;5;129;01mis\u001b[39;00m \u001b[38;5;129;01mnot\u001b[39;00m \u001b[38;5;28;01mNone\u001b[39;00m:\n\u001b[1;32m    457\u001b[0m     \u001b[38;5;28;01mwith\u001b[39;00m \u001b[38;5;28mopen\u001b[39m(filename, \u001b[38;5;124m'\u001b[39m\u001b[38;5;124mwb\u001b[39m\u001b[38;5;124m'\u001b[39m) \u001b[38;5;28;01mas\u001b[39;00m file:\n\u001b[0;32m--> 458\u001b[0m         \u001b[38;5;28;43mself\u001b[39;49m\u001b[38;5;241;43m.\u001b[39;49m\u001b[43m_save\u001b[49m\u001b[43m(\u001b[49m\u001b[43mfile\u001b[49m\u001b[43m)\u001b[49m\n\u001b[1;32m    459\u001b[0m \u001b[38;5;28;01melse\u001b[39;00m:\n\u001b[1;32m    460\u001b[0m     \u001b[38;5;28;01mraise\u001b[39;00m \u001b[38;5;167;01mValueError\u001b[39;00m(\u001b[38;5;124m'\u001b[39m\u001b[38;5;124mrequires filename or file\u001b[39m\u001b[38;5;124m'\u001b[39m)\n",
      "File \u001b[0;32m~/code/DISCO/.venv/lib/python3.11/site-packages/mido/midifiles/midifiles.py:471\u001b[0m, in \u001b[0;36mMidiFile._save\u001b[0;34m(self, outfile)\u001b[0m\n\u001b[1;32m    468\u001b[0m write_chunk(outfile, \u001b[38;5;124mb\u001b[39m\u001b[38;5;124m'\u001b[39m\u001b[38;5;124mMThd\u001b[39m\u001b[38;5;124m'\u001b[39m, header)\n\u001b[1;32m    470\u001b[0m \u001b[38;5;28;01mfor\u001b[39;00m track \u001b[38;5;129;01min\u001b[39;00m \u001b[38;5;28mself\u001b[39m\u001b[38;5;241m.\u001b[39mtracks:\n\u001b[0;32m--> 471\u001b[0m     \u001b[43mwrite_track\u001b[49m\u001b[43m(\u001b[49m\u001b[43moutfile\u001b[49m\u001b[43m,\u001b[49m\u001b[43m \u001b[49m\u001b[43mtrack\u001b[49m\u001b[43m)\u001b[49m\n",
      "File \u001b[0;32m~/code/DISCO/.venv/lib/python3.11/site-packages/mido/midifiles/midifiles.py:246\u001b[0m, in \u001b[0;36mwrite_track\u001b[0;34m(outfile, track)\u001b[0m\n\u001b[1;32m    244\u001b[0m     \u001b[38;5;28;01mraise\u001b[39;00m \u001b[38;5;167;01mValueError\u001b[39;00m(\u001b[38;5;124m'\u001b[39m\u001b[38;5;124mmessage time must be int in MIDI file\u001b[39m\u001b[38;5;124m'\u001b[39m)\n\u001b[1;32m    245\u001b[0m \u001b[38;5;28;01mif\u001b[39;00m msg\u001b[38;5;241m.\u001b[39mtime \u001b[38;5;241m<\u001b[39m \u001b[38;5;241m0\u001b[39m:\n\u001b[0;32m--> 246\u001b[0m     \u001b[38;5;28;01mraise\u001b[39;00m \u001b[38;5;167;01mValueError\u001b[39;00m(\u001b[38;5;124m'\u001b[39m\u001b[38;5;124mmessage time must be non-negative in MIDI file\u001b[39m\u001b[38;5;124m'\u001b[39m)\n\u001b[1;32m    248\u001b[0m \u001b[38;5;28;01mif\u001b[39;00m msg\u001b[38;5;241m.\u001b[39mis_realtime:\n\u001b[1;32m    249\u001b[0m     \u001b[38;5;28;01mraise\u001b[39;00m \u001b[38;5;167;01mValueError\u001b[39;00m(\u001b[38;5;124m'\u001b[39m\u001b[38;5;124mrealtime messages are not allowed in MIDI files\u001b[39m\u001b[38;5;124m'\u001b[39m)\n",
      "\u001b[0;31mValueError\u001b[0m: message time must be non-negative in MIDI file"
     ]
    }
   ],
   "source": [
    "from mido import Message, MidiFile, MidiTrack\n",
    "from tempfile import NamedTemporaryFile\n",
    "\n",
    "def create_midi_example():\n",
    "    # Create a new MIDI file with one track\n",
    "    mid = MidiFile()\n",
    "    track = MidiTrack()\n",
    "    mid.tracks.append(track)\n",
    "\n",
    "    # Define a basic chord progression: C - G - Am - F\n",
    "    chords = [\n",
    "        [60, 64, 67],  # C major\n",
    "        [67, 71, 74],  # G major\n",
    "        [69, 72, 76],  # A minor\n",
    "        [65, 69, 72]   # F major\n",
    "    ]\n",
    "\n",
    "    # Adding chords with different articulations to the track\n",
    "    def add_chord(chord, duration, start_time):\n",
    "        for note in chord:\n",
    "            track.append(Message('note_on', note=note, velocity=64, time=start_time))\n",
    "            track.append(Message('note_off', note=note, velocity=64, time=duration))\n",
    "            start_time = 0  # Only the first note has the start_time delay\n",
    "\n",
    "    # Smooth and Even\n",
    "    for chord in chords:\n",
    "        add_chord(chord, 480, 0)  # Duration is 480 ticks (standard for a quarter note)\n",
    "\n",
    "    # Slightly Syncopated\n",
    "    for chord in chords:\n",
    "        add_chord(chord, 360, 120)  # Start a bit later and shorter duration\n",
    "\n",
    "    # Strumming (simulated)\n",
    "    for chord in chords:\n",
    "        for note in chord:\n",
    "            add_chord([note], 120, 40)  # Each note played separately with slight delay\n",
    "\n",
    "    # Anticipatory\n",
    "    for chord in chords:\n",
    "        add_chord(chord, 480, -120)  # Start early\n",
    "\n",
    "    # Staccato\n",
    "    for chord in chords:\n",
    "        add_chord(chord, 240, 0)  # Shorter duration\n",
    "\n",
    "    # Rhythmic Breaks\n",
    "    for chord in chords:\n",
    "        add_chord(chord, 240, 240)  # Add a rest between chords\n",
    "\n",
    "    # Save the MIDI file\n",
    "    temp_file = NamedTemporaryFile(delete=False, suffix='.mid')\n",
    "    mid.save(temp_file.name)\n",
    "    return temp_file.name\n",
    "\n",
    "midi_file_path = create_midi_example()\n",
    "midi_file_path\n"
   ]
  },
  {
   "cell_type": "code",
   "execution_count": 3,
   "metadata": {},
   "outputs": [
    {
     "name": "stdout",
     "output_type": "stream",
     "text": [
      "Collecting mido\n",
      "  Using cached mido-1.3.2-py3-none-any.whl.metadata (6.4 kB)\n",
      "Requirement already satisfied: packaging~=23.1 in /Users/xavidiaz/code/DISCO/.venv/lib/python3.11/site-packages (from mido) (23.2)\n",
      "Using cached mido-1.3.2-py3-none-any.whl (54 kB)\n",
      "Installing collected packages: mido\n",
      "Successfully installed mido-1.3.2\n",
      "Note: you may need to restart the kernel to use updated packages.\n"
     ]
    }
   ],
   "source": [
    "pip install mido "
   ]
  },
  {
   "cell_type": "markdown",
   "metadata": {},
   "source": [
    "Absolutely! Here's an enhanced version of the table for a disco song, now including chord articulation and harmonic rhythm suggestions for each section:\n",
    "\n",
    "| Song Section | Chord Progression Variations | Chord Articulation              | Harmonic Rhythm                    |\n",
    "|--------------|------------------------------|---------------------------------|------------------------------------|\n",
    "| **Intro**    | I-IV or I-V to set the stage | Smooth, flowing, consistent     | Regular, steady (e.g., one chord per bar) |\n",
    "| **Verse**    | ii-V-I or I-IV-vi-V          | Light touch, syncopated accents | Moderate, with some syncopation   |\n",
    "| **Pre-Chorus**| vi-IV-I-V or ii-V-I         | Building intensity, crescendo   | Increasing pace (e.g., faster chord changes) |\n",
    "| **Chorus**   | I-V-vi-IV or I-IV-V          | Strong, pronounced, staccato    | Steady and repetitive             |\n",
    "| **Bridge**   | bVI-bVII-I or V/vi-vi        | Varied, possibly syncopated     | Can vary, often slower or with pauses |\n",
    "| **Breakdown**| Similar to chorus/verse      | Minimal, focus on rhythm/bass   | Slowed down, sparse or absent     |\n",
    "| **Outro**    | Repeat chorus or intro       | Gradually fading, smooth        | Regular, slowing towards the end  |\n",
    "\n",
    "In this table:\n",
    "\n",
    "- **Chord Articulation** refers to the way chords are played, such as staccato (short and detached) or legato (smooth and connected), and includes dynamic changes like crescendos or decrescendos.\n",
    "- **Harmonic Rhythm** is the rate at which chords change, which can vary from one chord per bar (or even slower) to multiple chords within a single bar.\n",
    "\n",
    "Disco music is characterized by its rhythmic and danceable nature, so the harmonic rhythm and chord articulation play crucial roles in maintaining the genre's distinctive feel. Remember, these are general guidelines and can be adapted depending on the specific mood and style of the song you're creating."
   ]
  },
  {
   "cell_type": "markdown",
   "metadata": {},
   "source": [
    "Assigning different tempos to each section of a disco song can significantly affect its dynamics and feel. If you're using the tempos \"Andante,\" \"Moderato,\" \"Presto,\" and \"Allegro\" for different sections of a disco song, here's a possible arrangement:\n",
    "\n",
    "1. **Intro**: \n",
    "   - Tempo: **Moderato**\n",
    "   - Reasoning: A moderate tempo can set the stage effectively, introducing listeners to the groove and feel of the track without overwhelming them right away.\n",
    "\n",
    "2. **Verse**: \n",
    "   - Tempo: **Andante**\n",
    "   - Reasoning: A slightly slower tempo like andante can give space for the storytelling aspect of the verse, allowing the lyrics to be more expressive and the melodies more nuanced.\n",
    "\n",
    "3. **Pre-Chorus**: \n",
    "   - Tempo: **Moderato**\n",
    "   - Reasoning: Returning to a moderate tempo can build energy and anticipation for the chorus.\n",
    "\n",
    "4. **Chorus**: \n",
    "   - Tempo: **Allegro**\n",
    "   - Reasoning: A faster tempo like allegro is ideal for the chorus to heighten the energy and create a memorable, danceable hook.\n",
    "\n",
    "5. **Bridge**: \n",
    "   - Tempo: **Presto**\n",
    "   - Reasoning: Using a very fast tempo like presto for the bridge can provide a dynamic contrast, adding a sense of urgency or intensity before returning to the final chorus.\n",
    "\n",
    "6. **Breakdown**: \n",
    "   - Tempo: **Andante**\n",
    "   - Reasoning: Slowing down to andante can create a contrast, focusing on rhythm or melody, and setting up the return to the higher energy of the chorus.\n",
    "\n",
    "7. **Outro**: \n",
    "   - Tempo: **Moderato**\n",
    "   - Reasoning: Ending with a moderate tempo can provide a balanced closure to the song, allowing the energy to taper off smoothly.\n",
    "\n",
    "Remember, disco songs typically maintain a consistent tempo to keep the dance floor energetic and moving. This approach of varying tempos significantly within the same track is more experimental and might challenge traditional dance floor dynamics, but it could also lead to a unique and engaging composition. It's all about how well the transitions are handled and how each section flows into the next."
   ]
  }
 ],
 "metadata": {
  "kernelspec": {
   "display_name": "Python 3",
   "language": "python",
   "name": "python3"
  },
  "language_info": {
   "codemirror_mode": {
    "name": "ipython",
    "version": 3
   },
   "file_extension": ".py",
   "mimetype": "text/x-python",
   "name": "python",
   "nbconvert_exporter": "python",
   "pygments_lexer": "ipython3",
   "version": "3.11.7"
  }
 },
 "nbformat": 4,
 "nbformat_minor": 2
}
